{
 "cells": [
  {
   "cell_type": "markdown",
   "id": "e002125f",
   "metadata": {},
   "source": [
    "# Importing libraries"
   ]
  },
  {
   "cell_type": "code",
   "execution_count": 3,
   "id": "1648f64b",
   "metadata": {},
   "outputs": [],
   "source": [
    "from tensorflow.keras.layers import Conv2D #convolution layer\n",
    "from tensorflow.keras.layers import MaxPool2D #max pooling\n",
    "from keras.layers import Flatten\n",
    "from tensorflow.keras.layers import Dense #adding layers\n",
    "from tensorflow.keras.models import Sequential#for initializing\n"
   ]
  },
  {
   "cell_type": "markdown",
   "id": "671d78ab",
   "metadata": {},
   "source": [
    "# preprocessing the images"
   ]
  },
  {
   "cell_type": "code",
   "execution_count": 4,
   "id": "4d084cd3",
   "metadata": {},
   "outputs": [],
   "source": [
    "from keras.preprocessing.image import ImageDataGenerator"
   ]
  },
  {
   "cell_type": "code",
   "execution_count": 5,
   "id": "448128bb",
   "metadata": {},
   "outputs": [],
   "source": [
    "train_datagen = ImageDataGenerator(rescale=1/255,\n",
    "                                   width_shift_range=0.10, \n",
    "                                   height_shift_range=0.10, \n",
    "                                   shear_range=0.2,\n",
    "                                   zoom_range=0.2,\n",
    "                                   horizontal_flip=True,\n",
    "                                   vertical_flip = False,\n",
    "                                  brightness_range = [0.7, 1.3],)"
   ]
  },
  {
   "cell_type": "code",
   "execution_count": 6,
   "id": "06d9c3ee",
   "metadata": {},
   "outputs": [],
   "source": [
    "test_datagen = ImageDataGenerator(rescale = 1/255)"
   ]
  },
  {
   "cell_type": "code",
   "execution_count": 7,
   "id": "03fc26b9",
   "metadata": {},
   "outputs": [
    {
     "name": "stdout",
     "output_type": "stream",
     "text": [
      "Found 2205 images belonging to 5 classes.\n"
     ]
    }
   ],
   "source": [
    "x_train = train_datagen.flow_from_directory(r\"C:\\Users\\DELL\\Desktop\\IA_project\\dataset\\train\",\n",
    "                                            target_size=(64,64),\n",
    "                                            batch_size=32,\n",
    "                                            class_mode =\"categorical\",\n",
    "                                           color_mode = 'rgb')"
   ]
  },
  {
   "cell_type": "code",
   "execution_count": 8,
   "id": "f363b0b1",
   "metadata": {},
   "outputs": [
    {
     "name": "stdout",
     "output_type": "stream",
     "text": [
      "Found 550 images belonging to 5 classes.\n"
     ]
    }
   ],
   "source": [
    "x_test = test_datagen.flow_from_directory(r\"C:\\Users\\DELL\\Desktop\\IA_project\\dataset\\test\",\n",
    "                                          target_size=(64,64),\n",
    "                                          batch_size=32,\n",
    "                                          class_mode=\"categorical\")"
   ]
  },
  {
   "cell_type": "markdown",
   "id": "70186913",
   "metadata": {},
   "source": [
    "# Building the CNN model"
   ]
  },
  {
   "cell_type": "code",
   "execution_count": 9,
   "id": "9100074e",
   "metadata": {},
   "outputs": [],
   "source": [
    "model = Sequential()"
   ]
  },
  {
   "cell_type": "code",
   "execution_count": 10,
   "id": "fe2d5f8c",
   "metadata": {},
   "outputs": [],
   "source": [
    "model.add(Conv2D(16,(3,3),input_shape=(64,64,3),activation=\"relu\"))\n",
    "model.add(MaxPool2D(pool_size=(2,2))) "
   ]
  },
  {
   "cell_type": "code",
   "execution_count": 11,
   "id": "d4285f18",
   "metadata": {},
   "outputs": [],
   "source": [
    "model.add(Conv2D(32,(3,3),input_shape=(64,64,3),activation=\"relu\"))\n",
    "model.add(MaxPool2D(pool_size=(2,2))) "
   ]
  },
  {
   "cell_type": "code",
   "execution_count": 12,
   "id": "1e977c89",
   "metadata": {},
   "outputs": [],
   "source": [
    " model.add(Conv2D(64,(3,3),input_shape=(64,64,3),activation=\"relu\"))\n",
    "model.add(MaxPool2D(pool_size=(2,2))) "
   ]
  },
  {
   "cell_type": "code",
   "execution_count": 13,
   "id": "1f7bb04b",
   "metadata": {},
   "outputs": [],
   "source": [
    "model.add(Conv2D(128,(3,3),input_shape=(64,64,3),activation=\"relu\"))\n",
    "model.add(MaxPool2D(pool_size=(2,2))) "
   ]
  },
  {
   "cell_type": "code",
   "execution_count": 14,
   "id": "5e058eb3",
   "metadata": {},
   "outputs": [],
   "source": [
    "model.add(Flatten())"
   ]
  },
  {
   "cell_type": "code",
   "execution_count": 15,
   "id": "4f1bffb0",
   "metadata": {},
   "outputs": [],
   "source": [
    "model.add(Dense(units=300,activation=\"relu\"))"
   ]
  },
  {
   "cell_type": "code",
   "execution_count": 16,
   "id": "d4de2a40",
   "metadata": {},
   "outputs": [],
   "source": [
    "model.add(Dense(units=150,activation=\"relu\"))"
   ]
  },
  {
   "cell_type": "code",
   "execution_count": 17,
   "id": "29e238c9",
   "metadata": {},
   "outputs": [],
   "source": [
    "model.add(Dense(units=5,activation=\"softmax\"))"
   ]
  },
  {
   "cell_type": "code",
   "execution_count": 18,
   "id": "15aeb705",
   "metadata": {},
   "outputs": [],
   "source": [
    "model.compile(optimizer='adam',loss=\"categorical_crossentropy\",metrics=[\"accuracy\"])\n"
   ]
  },
  {
   "cell_type": "code",
   "execution_count": 19,
   "id": "e72aa37f",
   "metadata": {},
   "outputs": [
    {
     "name": "stdout",
     "output_type": "stream",
     "text": [
      "Model: \"sequential\"\n",
      "_________________________________________________________________\n",
      "Layer (type)                 Output Shape              Param #   \n",
      "=================================================================\n",
      "conv2d (Conv2D)              (None, 62, 62, 16)        448       \n",
      "_________________________________________________________________\n",
      "max_pooling2d (MaxPooling2D) (None, 31, 31, 16)        0         \n",
      "_________________________________________________________________\n",
      "conv2d_1 (Conv2D)            (None, 29, 29, 32)        4640      \n",
      "_________________________________________________________________\n",
      "max_pooling2d_1 (MaxPooling2 (None, 14, 14, 32)        0         \n",
      "_________________________________________________________________\n",
      "conv2d_2 (Conv2D)            (None, 12, 12, 64)        18496     \n",
      "_________________________________________________________________\n",
      "max_pooling2d_2 (MaxPooling2 (None, 6, 6, 64)          0         \n",
      "_________________________________________________________________\n",
      "conv2d_3 (Conv2D)            (None, 4, 4, 128)         73856     \n",
      "_________________________________________________________________\n",
      "max_pooling2d_3 (MaxPooling2 (None, 2, 2, 128)         0         \n",
      "_________________________________________________________________\n",
      "flatten (Flatten)            (None, 512)               0         \n",
      "_________________________________________________________________\n",
      "dense (Dense)                (None, 300)               153900    \n",
      "_________________________________________________________________\n",
      "dense_1 (Dense)              (None, 150)               45150     \n",
      "_________________________________________________________________\n",
      "dense_2 (Dense)              (None, 5)                 755       \n",
      "=================================================================\n",
      "Total params: 297,245\n",
      "Trainable params: 297,245\n",
      "Non-trainable params: 0\n",
      "_________________________________________________________________\n"
     ]
    }
   ],
   "source": [
    "model.summary()"
   ]
  },
  {
   "cell_type": "code",
   "execution_count": 20,
   "id": "da862629",
   "metadata": {},
   "outputs": [
    {
     "data": {
      "text/plain": [
       "{'Acne': 0, 'Melanoma': 1, 'Psoriasis': 2, 'Rosacea': 3, 'Vitiligo': 4}"
      ]
     },
     "execution_count": 20,
     "metadata": {},
     "output_type": "execute_result"
    }
   ],
   "source": [
    "x_train.class_indices"
   ]
  },
  {
   "cell_type": "code",
   "execution_count": 74,
   "id": "4a818fec",
   "metadata": {},
   "outputs": [],
   "source": [
    "batch_size = 16"
   ]
  },
  {
   "cell_type": "code",
   "execution_count": 49,
   "id": "a11b83e9",
   "metadata": {},
   "outputs": [],
   "source": [
    "from tensorflow.keras.metrics import Recall\n",
    "from tensorflow.keras.callbacks import EarlyStopping,ReduceLROnPlateau"
   ]
  },
  {
   "cell_type": "code",
   "execution_count": 50,
   "id": "3524eed5",
   "metadata": {},
   "outputs": [],
   "source": [
    "early=EarlyStopping(monitor='accuracy',patience=4,mode='auto')\n",
    "reduce_lr = ReduceLROnPlateau(monitor='accuracy', factor=0.5, patience=2, verbose=1,cooldown=0, mode='auto',min_delta=0.0001, min_lr=0)"
   ]
  },
  {
   "cell_type": "code",
   "execution_count": 51,
   "id": "3590ae18",
   "metadata": {
    "scrolled": false
   },
   "outputs": [
    {
     "name": "stdout",
     "output_type": "stream",
     "text": [
      "Epoch 1/100\n",
      "69/69 [==============================] - 15s 220ms/step - loss: 0.2749 - accuracy: 0.9016 - val_loss: 1.5413 - val_accuracy: 0.6545\n",
      "Epoch 2/100\n",
      "69/69 [==============================] - 17s 245ms/step - loss: 0.2752 - accuracy: 0.9029 - val_loss: 1.5271 - val_accuracy: 0.6345\n",
      "Epoch 3/100\n",
      "69/69 [==============================] - 15s 224ms/step - loss: 0.2616 - accuracy: 0.9066 - val_loss: 1.5305 - val_accuracy: 0.6400\n",
      "Epoch 4/100\n",
      "69/69 [==============================] - 15s 219ms/step - loss: 0.2266 - accuracy: 0.9125 - val_loss: 1.5381 - val_accuracy: 0.6527\n",
      "Epoch 5/100\n",
      "69/69 [==============================] - 15s 220ms/step - loss: 0.2327 - accuracy: 0.9166 - val_loss: 1.4505 - val_accuracy: 0.6673\n",
      "Epoch 6/100\n",
      "69/69 [==============================] - 15s 220ms/step - loss: 0.2477 - accuracy: 0.9061 - val_loss: 1.6386 - val_accuracy: 0.6436\n",
      "Epoch 7/100\n",
      "69/69 [==============================] - 15s 222ms/step - loss: 0.2877 - accuracy: 0.8993 - val_loss: 1.5670 - val_accuracy: 0.6218\n",
      "Epoch 8/100\n",
      "69/69 [==============================] - 15s 221ms/step - loss: 0.2675 - accuracy: 0.9039 - val_loss: 1.3752 - val_accuracy: 0.6691\n",
      "Epoch 9/100\n",
      "69/69 [==============================] - 15s 220ms/step - loss: 0.2361 - accuracy: 0.9156 - val_loss: 1.5834 - val_accuracy: 0.6545\n",
      "Epoch 10/100\n",
      "69/69 [==============================] - 17s 245ms/step - loss: 0.2146 - accuracy: 0.9202 - val_loss: 1.6507 - val_accuracy: 0.6327\n",
      "Epoch 11/100\n",
      "69/69 [==============================] - 15s 224ms/step - loss: 0.2282 - accuracy: 0.9206 - val_loss: 1.5140 - val_accuracy: 0.6509\n",
      "Epoch 12/100\n",
      "69/69 [==============================] - 21s 306ms/step - loss: 0.2551 - accuracy: 0.9134 - val_loss: 1.4957 - val_accuracy: 0.6455\n",
      "Epoch 13/100\n",
      "69/69 [==============================] - 16s 227ms/step - loss: 0.2553 - accuracy: 0.9120 - val_loss: 1.4863 - val_accuracy: 0.6636\n",
      "Epoch 14/100\n",
      "69/69 [==============================] - 17s 246ms/step - loss: 0.2422 - accuracy: 0.9147 - val_loss: 1.5554 - val_accuracy: 0.6364\n",
      "Epoch 15/100\n",
      "69/69 [==============================] - 26s 378ms/step - loss: 0.2553 - accuracy: 0.9111 - val_loss: 1.4329 - val_accuracy: 0.6455\n",
      "Epoch 16/100\n",
      "69/69 [==============================] - 18s 256ms/step - loss: 0.2218 - accuracy: 0.9229 - val_loss: 1.6092 - val_accuracy: 0.6291\n",
      "Epoch 17/100\n",
      "69/69 [==============================] - 16s 234ms/step - loss: 0.2081 - accuracy: 0.9274 - val_loss: 1.3929 - val_accuracy: 0.6727\n",
      "Epoch 18/100\n",
      "69/69 [==============================] - 15s 222ms/step - loss: 0.2197 - accuracy: 0.9215 - val_loss: 1.4047 - val_accuracy: 0.6836\n",
      "Epoch 19/100\n",
      "69/69 [==============================] - 17s 250ms/step - loss: 0.2296 - accuracy: 0.9188 - val_loss: 1.3833 - val_accuracy: 0.6891\n",
      "Epoch 20/100\n",
      "69/69 [==============================] - 17s 246ms/step - loss: 0.1904 - accuracy: 0.9333 - val_loss: 1.5316 - val_accuracy: 0.6782\n",
      "Epoch 21/100\n",
      "69/69 [==============================] - 15s 223ms/step - loss: 0.2154 - accuracy: 0.9293 - val_loss: 1.6111 - val_accuracy: 0.6636\n",
      "Epoch 22/100\n",
      "69/69 [==============================] - 15s 224ms/step - loss: 0.2074 - accuracy: 0.9265 - val_loss: 1.6227 - val_accuracy: 0.6509\n",
      "Epoch 23/100\n",
      "69/69 [==============================] - 14s 209ms/step - loss: 0.2477 - accuracy: 0.9079 - val_loss: 1.4671 - val_accuracy: 0.6636\n",
      "Epoch 24/100\n",
      "69/69 [==============================] - 14s 208ms/step - loss: 0.2430 - accuracy: 0.9098 - val_loss: 1.5536 - val_accuracy: 0.6618\n",
      "Epoch 25/100\n",
      "69/69 [==============================] - 14s 207ms/step - loss: 0.2247 - accuracy: 0.9256 - val_loss: 1.5543 - val_accuracy: 0.6745\n",
      "Epoch 26/100\n",
      "69/69 [==============================] - 14s 208ms/step - loss: 0.2032 - accuracy: 0.9283 - val_loss: 1.6263 - val_accuracy: 0.6582\n",
      "Epoch 27/100\n",
      "69/69 [==============================] - 15s 212ms/step - loss: 0.2084 - accuracy: 0.9347 - val_loss: 1.5323 - val_accuracy: 0.6709\n",
      "Epoch 28/100\n",
      "69/69 [==============================] - 15s 217ms/step - loss: 0.2304 - accuracy: 0.9166 - val_loss: 1.3959 - val_accuracy: 0.6618\n",
      "Epoch 29/100\n",
      "69/69 [==============================] - 14s 208ms/step - loss: 0.2356 - accuracy: 0.9193 - val_loss: 1.4496 - val_accuracy: 0.6418\n",
      "Epoch 30/100\n",
      "69/69 [==============================] - 15s 215ms/step - loss: 0.1954 - accuracy: 0.9315 - val_loss: 1.4880 - val_accuracy: 0.6564\n",
      "Epoch 31/100\n",
      "69/69 [==============================] - 14s 209ms/step - loss: 0.1928 - accuracy: 0.9324 - val_loss: 1.5385 - val_accuracy: 0.6836\n",
      "Epoch 32/100\n",
      "69/69 [==============================] - 14s 208ms/step - loss: 0.2197 - accuracy: 0.9156 - val_loss: 1.5657 - val_accuracy: 0.6836\n",
      "Epoch 33/100\n",
      "69/69 [==============================] - 14s 208ms/step - loss: 0.2163 - accuracy: 0.9197 - val_loss: 1.5259 - val_accuracy: 0.6455\n",
      "Epoch 34/100\n",
      "69/69 [==============================] - 14s 209ms/step - loss: 0.2361 - accuracy: 0.9197 - val_loss: 1.4439 - val_accuracy: 0.6636\n",
      "Epoch 35/100\n",
      "69/69 [==============================] - 14s 209ms/step - loss: 0.1723 - accuracy: 0.9383 - val_loss: 1.6080 - val_accuracy: 0.6764\n",
      "Epoch 36/100\n",
      "69/69 [==============================] - 14s 205ms/step - loss: 0.2143 - accuracy: 0.9252 - val_loss: 1.6358 - val_accuracy: 0.6855\n",
      "Epoch 37/100\n",
      "69/69 [==============================] - 14s 207ms/step - loss: 0.2184 - accuracy: 0.9283 - val_loss: 1.5689 - val_accuracy: 0.6727\n",
      "Epoch 38/100\n",
      "69/69 [==============================] - 14s 207ms/step - loss: 0.2059 - accuracy: 0.9306 - val_loss: 1.6131 - val_accuracy: 0.6764\n",
      "Epoch 39/100\n",
      "69/69 [==============================] - 16s 231ms/step - loss: 0.1916 - accuracy: 0.9338 - val_loss: 1.4968 - val_accuracy: 0.6618\n",
      "Epoch 40/100\n",
      "69/69 [==============================] - 15s 213ms/step - loss: 0.1896 - accuracy: 0.9370 - val_loss: 1.6725 - val_accuracy: 0.6618\n",
      "Epoch 41/100\n",
      "69/69 [==============================] - 15s 215ms/step - loss: 0.1865 - accuracy: 0.9374 - val_loss: 1.5412 - val_accuracy: 0.6727\n",
      "Epoch 42/100\n",
      "69/69 [==============================] - 15s 214ms/step - loss: 0.1911 - accuracy: 0.9338 - val_loss: 1.6500 - val_accuracy: 0.6655\n",
      "Epoch 43/100\n",
      "69/69 [==============================] - 15s 217ms/step - loss: 0.2082 - accuracy: 0.9320 - val_loss: 1.5221 - val_accuracy: 0.6636\n",
      "Epoch 44/100\n",
      "69/69 [==============================] - 15s 215ms/step - loss: 0.2118 - accuracy: 0.9315 - val_loss: 1.4220 - val_accuracy: 0.6636\n",
      "Epoch 45/100\n",
      "69/69 [==============================] - 15s 215ms/step - loss: 0.1924 - accuracy: 0.9306 - val_loss: 1.6016 - val_accuracy: 0.6582\n",
      "Epoch 46/100\n",
      "69/69 [==============================] - 23s 338ms/step - loss: 0.2103 - accuracy: 0.9306 - val_loss: 1.6495 - val_accuracy: 0.6691\n",
      "Epoch 47/100\n",
      "69/69 [==============================] - 17s 250ms/step - loss: 0.2069 - accuracy: 0.9293 - val_loss: 1.7675 - val_accuracy: 0.6636\n",
      "Epoch 48/100\n",
      "69/69 [==============================] - 16s 229ms/step - loss: 0.2214 - accuracy: 0.9274 - val_loss: 1.5572 - val_accuracy: 0.6636\n",
      "Epoch 49/100\n",
      "69/69 [==============================] - 16s 235ms/step - loss: 0.1908 - accuracy: 0.9356 - val_loss: 1.5529 - val_accuracy: 0.6600\n",
      "Epoch 50/100\n",
      "69/69 [==============================] - 14s 209ms/step - loss: 0.1549 - accuracy: 0.9447 - val_loss: 1.6400 - val_accuracy: 0.6709\n",
      "Epoch 51/100\n",
      "69/69 [==============================] - 15s 211ms/step - loss: 0.1908 - accuracy: 0.9297 - val_loss: 1.6420 - val_accuracy: 0.6564\n",
      "Epoch 52/100\n",
      "69/69 [==============================] - 16s 233ms/step - loss: 0.2474 - accuracy: 0.9156 - val_loss: 1.5645 - val_accuracy: 0.6618\n",
      "Epoch 53/100\n",
      "69/69 [==============================] - 15s 215ms/step - loss: 0.1962 - accuracy: 0.9283 - val_loss: 1.5833 - val_accuracy: 0.6491\n",
      "Epoch 54/100\n",
      "69/69 [==============================] - 15s 215ms/step - loss: 0.1865 - accuracy: 0.9424 - val_loss: 1.6142 - val_accuracy: 0.6545\n",
      "Epoch 55/100\n",
      "69/69 [==============================] - 14s 207ms/step - loss: 0.1748 - accuracy: 0.9347 - val_loss: 1.5691 - val_accuracy: 0.6782\n",
      "Epoch 56/100\n",
      "69/69 [==============================] - 25s 359ms/step - loss: 0.1768 - accuracy: 0.9401 - val_loss: 1.5792 - val_accuracy: 0.6691\n",
      "Epoch 57/100\n",
      "69/69 [==============================] - 18s 258ms/step - loss: 0.1946 - accuracy: 0.9388 - val_loss: 1.5395 - val_accuracy: 0.6691\n",
      "Epoch 58/100\n",
      "69/69 [==============================] - 15s 221ms/step - loss: 0.1680 - accuracy: 0.9392 - val_loss: 1.5694 - val_accuracy: 0.6491\n",
      "Epoch 59/100\n",
      "69/69 [==============================] - 15s 212ms/step - loss: 0.1459 - accuracy: 0.9460 - val_loss: 1.6940 - val_accuracy: 0.6527\n",
      "Epoch 60/100\n",
      "69/69 [==============================] - 14s 209ms/step - loss: 0.1681 - accuracy: 0.9388 - val_loss: 1.5281 - val_accuracy: 0.6909\n",
      "Epoch 61/100\n",
      "69/69 [==============================] - 15s 222ms/step - loss: 0.1615 - accuracy: 0.9429 - val_loss: 1.7067 - val_accuracy: 0.6545\n",
      "Epoch 62/100\n",
      "69/69 [==============================] - 14s 210ms/step - loss: 0.2084 - accuracy: 0.9256 - val_loss: 1.6616 - val_accuracy: 0.6455\n",
      "Epoch 63/100\n",
      "69/69 [==============================] - 14s 209ms/step - loss: 0.2136 - accuracy: 0.9234 - val_loss: 1.4957 - val_accuracy: 0.6909\n",
      "Epoch 64/100\n",
      "69/69 [==============================] - 14s 210ms/step - loss: 0.1516 - accuracy: 0.9478 - val_loss: 1.5447 - val_accuracy: 0.6745\n",
      "Epoch 65/100\n",
      "69/69 [==============================] - 15s 212ms/step - loss: 0.1347 - accuracy: 0.9524 - val_loss: 1.5291 - val_accuracy: 0.6818\n",
      "Epoch 66/100\n",
      "69/69 [==============================] - 14s 209ms/step - loss: 0.1883 - accuracy: 0.9392 - val_loss: 1.5006 - val_accuracy: 0.6964\n",
      "Epoch 67/100\n",
      "69/69 [==============================] - 15s 215ms/step - loss: 0.1782 - accuracy: 0.9383 - val_loss: 1.4990 - val_accuracy: 0.6564\n",
      "Epoch 68/100\n",
      "69/69 [==============================] - 14s 208ms/step - loss: 0.1660 - accuracy: 0.9442 - val_loss: 1.6036 - val_accuracy: 0.6455\n",
      "Epoch 69/100\n",
      "69/69 [==============================] - 19s 270ms/step - loss: 0.1709 - accuracy: 0.9420 - val_loss: 1.7323 - val_accuracy: 0.6418\n",
      "Epoch 70/100\n",
      "69/69 [==============================] - 18s 266ms/step - loss: 0.1656 - accuracy: 0.9420 - val_loss: 1.7278 - val_accuracy: 0.6600\n",
      "Epoch 71/100\n",
      "69/69 [==============================] - 15s 221ms/step - loss: 0.1631 - accuracy: 0.9456 - val_loss: 1.6676 - val_accuracy: 0.6382\n",
      "Epoch 72/100\n",
      "69/69 [==============================] - 15s 213ms/step - loss: 0.1727 - accuracy: 0.9451 - val_loss: 1.5691 - val_accuracy: 0.6745\n",
      "Epoch 73/100\n",
      "69/69 [==============================] - 15s 216ms/step - loss: 0.1809 - accuracy: 0.9383 - val_loss: 1.6082 - val_accuracy: 0.6745\n",
      "Epoch 74/100\n",
      "69/69 [==============================] - 16s 238ms/step - loss: 0.1594 - accuracy: 0.9433 - val_loss: 1.6972 - val_accuracy: 0.6745\n",
      "Epoch 75/100\n",
      "69/69 [==============================] - 16s 239ms/step - loss: 0.1417 - accuracy: 0.9483 - val_loss: 1.8319 - val_accuracy: 0.6600\n",
      "Epoch 76/100\n",
      "69/69 [==============================] - 15s 217ms/step - loss: 0.1572 - accuracy: 0.9492 - val_loss: 1.6124 - val_accuracy: 0.6709\n",
      "Epoch 77/100\n",
      "69/69 [==============================] - 15s 215ms/step - loss: 0.1893 - accuracy: 0.9388 - val_loss: 1.7774 - val_accuracy: 0.6509\n",
      "Epoch 78/100\n",
      "69/69 [==============================] - 15s 212ms/step - loss: 0.1567 - accuracy: 0.9433 - val_loss: 1.7100 - val_accuracy: 0.6636y: 0.94\n",
      "Epoch 79/100\n",
      "69/69 [==============================] - 18s 257ms/step - loss: 0.1500 - accuracy: 0.9506 - val_loss: 1.8538 - val_accuracy: 0.6709\n",
      "Epoch 80/100\n",
      "69/69 [==============================] - 18s 255ms/step - loss: 0.1627 - accuracy: 0.9460 - val_loss: 1.7729 - val_accuracy: 0.6527\n",
      "Epoch 81/100\n",
      "69/69 [==============================] - 17s 246ms/step - loss: 0.1583 - accuracy: 0.9469 - val_loss: 1.6010 - val_accuracy: 0.6927\n",
      "Epoch 82/100\n",
      "69/69 [==============================] - 17s 241ms/step - loss: 0.1827 - accuracy: 0.9356 - val_loss: 1.6258 - val_accuracy: 0.6709\n",
      "Epoch 83/100\n",
      "69/69 [==============================] - 17s 247ms/step - loss: 0.1499 - accuracy: 0.9465 - val_loss: 1.6770 - val_accuracy: 0.6836\n",
      "Epoch 84/100\n",
      "69/69 [==============================] - 15s 215ms/step - loss: 0.1282 - accuracy: 0.9510 - val_loss: 1.6831 - val_accuracy: 0.6891\n",
      "Epoch 85/100\n",
      "69/69 [==============================] - 15s 218ms/step - loss: 0.1771 - accuracy: 0.9392 - val_loss: 1.6689 - val_accuracy: 0.6618\n",
      "Epoch 86/100\n",
      "69/69 [==============================] - 15s 216ms/step - loss: 0.1767 - accuracy: 0.9397 - val_loss: 1.6913 - val_accuracy: 0.6564\n",
      "Epoch 87/100\n",
      "69/69 [==============================] - 15s 214ms/step - loss: 0.1648 - accuracy: 0.9474 - val_loss: 1.5041 - val_accuracy: 0.6836\n",
      "Epoch 88/100\n",
      "69/69 [==============================] - 15s 222ms/step - loss: 0.1571 - accuracy: 0.9429 - val_loss: 1.6791 - val_accuracy: 0.6636\n",
      "Epoch 89/100\n",
      "69/69 [==============================] - 15s 224ms/step - loss: 0.1544 - accuracy: 0.9474 - val_loss: 1.6152 - val_accuracy: 0.6600\n",
      "Epoch 90/100\n",
      "69/69 [==============================] - 15s 216ms/step - loss: 0.1757 - accuracy: 0.9456 - val_loss: 1.6652 - val_accuracy: 0.6600\n",
      "Epoch 91/100\n",
      "69/69 [==============================] - 15s 217ms/step - loss: 0.1872 - accuracy: 0.9415 - val_loss: 1.6520 - val_accuracy: 0.6582\n",
      "Epoch 92/100\n",
      "69/69 [==============================] - 15s 216ms/step - loss: 0.1520 - accuracy: 0.9488 - val_loss: 1.5965 - val_accuracy: 0.6527\n",
      "Epoch 93/100\n",
      "69/69 [==============================] - 15s 214ms/step - loss: 0.1579 - accuracy: 0.9460 - val_loss: 1.6443 - val_accuracy: 0.6673\n",
      "Epoch 94/100\n",
      "69/69 [==============================] - 15s 214ms/step - loss: 0.1429 - accuracy: 0.9474 - val_loss: 1.6121 - val_accuracy: 0.6836\n",
      "Epoch 95/100\n",
      "69/69 [==============================] - 15s 212ms/step - loss: 0.1523 - accuracy: 0.9483 - val_loss: 1.5506 - val_accuracy: 0.6836\n",
      "Epoch 96/100\n",
      "69/69 [==============================] - 15s 218ms/step - loss: 0.1605 - accuracy: 0.9420 - val_loss: 1.7340 - val_accuracy: 0.6382\n",
      "Epoch 97/100\n",
      "69/69 [==============================] - 15s 218ms/step - loss: 0.1272 - accuracy: 0.9574 - val_loss: 1.7347 - val_accuracy: 0.6564\n",
      "Epoch 98/100\n",
      "69/69 [==============================] - 15s 215ms/step - loss: 0.1145 - accuracy: 0.9605 - val_loss: 1.7649 - val_accuracy: 0.6491\n",
      "Epoch 99/100\n",
      "69/69 [==============================] - 15s 214ms/step - loss: 0.1223 - accuracy: 0.9587 - val_loss: 1.7885 - val_accuracy: 0.6382\n",
      "Epoch 100/100\n",
      "69/69 [==============================] - 15s 216ms/step - loss: 0.1742 - accuracy: 0.9374 - val_loss: 1.8191 - val_accuracy: 0.6709\n"
     ]
    }
   ],
   "source": [
    "history=model.fit(x_train,steps_per_epoch=69,epochs=100,validation_data=x_test,validation_steps=18)\n"
   ]
  },
  {
   "cell_type": "code",
   "execution_count": 52,
   "id": "2a8ab7c4",
   "metadata": {},
   "outputs": [],
   "source": [
    "model.save(\"skindisease.h5\")\n"
   ]
  },
  {
   "cell_type": "code",
   "execution_count": 53,
   "id": "8d4e7ef7",
   "metadata": {},
   "outputs": [],
   "source": [
    "import matplotlib.pyplot as p\n",
    "import pandas as pd"
   ]
  },
  {
   "cell_type": "code",
   "execution_count": 54,
   "id": "8efaff32",
   "metadata": {},
   "outputs": [
    {
     "name": "stdout",
     "output_type": "stream",
     "text": [
      "18/18 [==============================] - 2s 93ms/step - loss: 1.8191 - accuracy: 0.6709\n",
      "Accuracy: 0.6709091067314148\n",
      "Loss: 1.8191132545471191\n"
     ]
    }
   ],
   "source": [
    "loss, accuracy = model.evaluate(x_test)\n",
    "\n",
    "# Print the accuracy\n",
    "print(\"Accuracy: \" + str(accuracy))\n",
    "# Print the loss\n",
    "print(\"Loss: \" + str(loss))\n"
   ]
  },
  {
   "cell_type": "code",
   "execution_count": 55,
   "id": "68a58c41",
   "metadata": {},
   "outputs": [
    {
     "data": {
      "text/plain": [
       "Text(0.5, 1.0, 'Training and Validation Accuracy')"
      ]
     },
     "execution_count": 55,
     "metadata": {},
     "output_type": "execute_result"
    },
    {
     "data": {
      "image/png": "[encoded data removed]",
      "text/plain": [
       "<Figure size 576x576 with 1 Axes>"
      ]
     },
     "metadata": {
      "needs_background": "light"
     },
     "output_type": "display_data"
    }
   ],
   "source": [
    "acc = history.history['accuracy']\n",
    "val_acc = history.history['val_accuracy']\n",
    "\n",
    "p.figure(figsize=(8, 8))\n",
    "p.subplot(1, 2, 1)\n",
    "p.plot( acc, label='Training Accuracy')\n",
    "p.plot( val_acc, label='Validation Accuracy')\n",
    "p.legend(loc='lower right')\n",
    "p.title('Training and Validation Accuracy')"
   ]
  },
  {
   "cell_type": "code",
   "execution_count": null,
   "id": "c11e0077",
   "metadata": {},
   "outputs": [],
   "source": []
  }
 ],
 "metadata": {
  "kernelspec": {
   "display_name": "Python 3 (ipykernel)",
   "language": "python",
   "name": "python3"
  },
  "language_info": {
   "codemirror_mode": {
    "name": "ipython",
    "version": 3
   },
   "file_extension": ".py",
   "mimetype": "text/x-python",
   "name": "python",
   "nbconvert_exporter": "python",
   "pygments_lexer": "ipython3",
   "version": "3.8.8"
  }
 },
 "nbformat": 4,
 "nbformat_minor": 5
}
